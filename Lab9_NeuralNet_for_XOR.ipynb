{
  "nbformat": 4,
  "nbformat_minor": 0,
  "metadata": {
    "colab": {
      "provenance": [],
      "authorship_tag": "ABX9TyNx+fHXd5BTtGlxYcCFL7eA",
      "include_colab_link": true
    },
    "kernelspec": {
      "name": "python3",
      "display_name": "Python 3"
    },
    "language_info": {
      "name": "python"
    }
  },
  "cells": [
    {
      "cell_type": "markdown",
      "metadata": {
        "id": "view-in-github",
        "colab_type": "text"
      },
      "source": [
        "<a href=\"https://colab.research.google.com/github/9-coding/DeepLearningZeroToAll/blob/main/Lab9_NeuralNet_for_XOR.ipynb\" target=\"_parent\"><img src=\"https://colab.research.google.com/assets/colab-badge.svg\" alt=\"Open In Colab\"/></a>"
      ]
    },
    {
      "cell_type": "code",
      "execution_count": 17,
      "metadata": {
        "colab": {
          "base_uri": "https://localhost:8080/"
        },
        "id": "JAb1iou8tkn3",
        "outputId": "ce83a70c-c97a-44f3-90d8-84118b93376e"
      },
      "outputs": [
        {
          "output_type": "stream",
          "name": "stdout",
          "text": [
            "Model: \"sequential_8\"\n",
            "_________________________________________________________________\n",
            " Layer (type)                Output Shape              Param #   \n",
            "=================================================================\n",
            " dense_8 (Dense)             (None, 1)                 3         \n",
            "                                                                 \n",
            "=================================================================\n",
            "Total params: 3\n",
            "Trainable params: 3\n",
            "Non-trainable params: 0\n",
            "_________________________________________________________________\n"
          ]
        },
        {
          "output_type": "stream",
          "name": "stderr",
          "text": [
            "WARNING:tensorflow:5 out of the last 5 calls to <function Model.make_predict_function.<locals>.predict_function at 0x7f36152cba30> triggered tf.function retracing. Tracing is expensive and the excessive number of tracings could be due to (1) creating @tf.function repeatedly in a loop, (2) passing tensors with different shapes, (3) passing Python objects instead of tensors. For (1), please define your @tf.function outside of the loop. For (2), @tf.function has reduce_retracing=True option that can avoid unnecessary retracing. For (3), please refer to https://www.tensorflow.org/guide/function#controlling_retracing and https://www.tensorflow.org/api_docs/python/tf/function for  more details.\n"
          ]
        },
        {
          "output_type": "stream",
          "name": "stdout",
          "text": [
            "1/1 [==============================] - 0s 52ms/step\n"
          ]
        },
        {
          "output_type": "stream",
          "name": "stderr",
          "text": [
            "WARNING:tensorflow:5 out of the last 5 calls to <function Model.make_test_function.<locals>.test_function at 0x7f3615244940> triggered tf.function retracing. Tracing is expensive and the excessive number of tracings could be due to (1) creating @tf.function repeatedly in a loop, (2) passing tensors with different shapes, (3) passing Python objects instead of tensors. For (1), please define your @tf.function outside of the loop. For (2), @tf.function has reduce_retracing=True option that can avoid unnecessary retracing. For (3), please refer to https://www.tensorflow.org/guide/function#controlling_retracing and https://www.tensorflow.org/api_docs/python/tf/function for  more details.\n"
          ]
        },
        {
          "output_type": "stream",
          "name": "stdout",
          "text": [
            "Prediction: \n",
            " [[0.5453582 ]\n",
            " [0.41144305]\n",
            " [0.5985101 ]\n",
            " [0.4648891 ]]\n",
            "1/1 [==============================] - 0s 146ms/step - loss: 0.7037 - accuracy: 0.5000\n",
            "Accuracy:  0.5\n"
          ]
        }
      ],
      "source": [
        "# Lab9_NeuralNet_for_XOR\n",
        "\n",
        "# XOR\n",
        "import tensorflow as tf\n",
        "import numpy as np\n",
        "\n",
        "x_data = np.array([[0, 0], [0, 1], [1, 0], [1, 1]], dtype=np.float32)\n",
        "y_data = np.array([[0], [1], [1], [0]], dtype=np.float32)\n",
        "\n",
        "tf.model = tf.keras.Sequential()\n",
        "tf.model.add(tf.keras.layers.Dense(units=1, input_dim=2, activation='sigmoid'))\n",
        "tf.model.compile(loss='binary_crossentropy', optimizer=tf.optimizers.SGD(learning_rate=0.01),  metrics=['accuracy'])\n",
        "tf.model.summary()\n",
        "\n",
        "tf.model.fit(x_data, y_data, epochs=1000, verbose=0)\n",
        "\n",
        "predictions = tf.model.predict(x_data)\n",
        "print('Prediction: \\n', predictions)\n",
        "\n",
        "score = tf.model.evaluate(x_data, y_data)\n",
        "print('Accuracy: ', score[1])\n"
      ]
    },
    {
      "cell_type": "markdown",
      "source": [
        "### tf.model = tf.keras.Sequential()\n",
        "- sequential 모델 생성.\n",
        "\n",
        "### <br>tf.model.add(tf.keras.layers.Dense(units=1, input_dim=2, activation='sigmoid'))\n",
        "- 모델에 fully connected layer 추가.\n",
        "- units=1 : 뉴런의 수 지정\n",
        "- input_dim=2 : 입력 데이터의 차원 지정\n",
        "- activation='sigmoid' : 활성화 함수로 시그모이드 사용.\n",
        "- 입력된 값을 선형 결합하고 시그모이드 함수를 통과시켜 0과 1 사이의 값 출력.\n",
        "\n",
        "### <br>tf.model.compile(loss='binary_crossentropy', optimizer=tf.optimizers.SGD(learning_rate=0.01),  metrics=['accuracy'])\n",
        "- 모델 컴파일\n",
        "- 손실 함수로 binary_crossentropy, optimizer로 SGD, metrics로 accuracy 사용.\n",
        "\n",
        "###<br>tf.model.summary()\n",
        "- 모델의 요약 정보 출력\n",
        "\n",
        "\n",
        "###<br> Result\n",
        "- accuracy가 0.5로 아쉬운 결과.\n",
        "- 강의 내용을 생각해보면, 뉴럴 네트워크를 구성하지 않았을 때 선형적으로 나누게 되면 XOR의 정확도는 0.5가 나올 수밖에 없음."
      ],
      "metadata": {
        "id": "nMTQUJx6_ZbR"
      }
    },
    {
      "cell_type": "code",
      "source": [
        "# XOR using neural network\n",
        "\n",
        "import tensorflow as tf\n",
        "import numpy as np\n",
        "\n",
        "x_data = np.array([[0, 0], [0, 1], [1, 0], [1, 1]], dtype=np.float32)\n",
        "y_data = np.array([[0], [1], [1], [0]], dtype=np.float32)\n",
        "\n",
        "tf.model = tf.keras.Sequential()\n",
        "tf.model.add(tf.keras.layers.Dense(units=2, input_dim=2))\n",
        "tf.model.add(tf.keras.layers.Activation('sigmoid'))\n",
        "tf.model.add(tf.keras.layers.Dense(units=1, input_dim=2))\n",
        "tf.model.add(tf.keras.layers.Activation('sigmoid'))\n",
        "tf.model.compile(loss='binary_crossentropy', optimizer=tf.optimizers.SGD(learning_rate=0.1),  metrics=['accuracy'])\n",
        "tf.model.summary()\n",
        "\n",
        "history = tf.model.fit(x_data, y_data, epochs=10000, verbose=0)\n",
        "\n",
        "predictions = tf.model.predict(x_data)\n",
        "print('Prediction: \\n', predictions)\n",
        "\n",
        "score = tf.model.evaluate(x_data, y_data)\n",
        "print('Accuracy: ', score[1])"
      ],
      "metadata": {
        "colab": {
          "base_uri": "https://localhost:8080/"
        },
        "id": "dB41ARTQBTeU",
        "outputId": "40afb40f-392b-4ae2-9773-4f0edf29e142"
      },
      "execution_count": 20,
      "outputs": [
        {
          "output_type": "stream",
          "name": "stdout",
          "text": [
            "Model: \"sequential_11\"\n",
            "_________________________________________________________________\n",
            " Layer (type)                Output Shape              Param #   \n",
            "=================================================================\n",
            " dense_19 (Dense)            (None, 2)                 6         \n",
            "                                                                 \n",
            " activation (Activation)     (None, 2)                 0         \n",
            "                                                                 \n",
            " dense_20 (Dense)            (None, 1)                 3         \n",
            "                                                                 \n",
            " activation_1 (Activation)   (None, 1)                 0         \n",
            "                                                                 \n",
            "=================================================================\n",
            "Total params: 9\n",
            "Trainable params: 9\n",
            "Non-trainable params: 0\n",
            "_________________________________________________________________\n",
            "1/1 [==============================] - 0s 85ms/step\n",
            "Prediction: \n",
            " [[0.01386633]\n",
            " [0.9810728 ]\n",
            " [0.98108315]\n",
            " [0.01774468]]\n",
            "1/1 [==============================] - 0s 205ms/step - loss: 0.0175 - accuracy: 1.0000\n",
            "Accuracy:  1.0\n"
          ]
        }
      ]
    },
    {
      "cell_type": "markdown",
      "source": [
        "### 달라진 것\n",
        "- 두 개의 Dense Layer를 사용하여 네트워크의 구성을 2단으로 바꾸었음.\n",
        "- 따라서 비선형 관계인 XOR을 해결할 수 있게 됨.\n",
        "- accuracy가 1.0으로 향상\n"
      ],
      "metadata": {
        "id": "QAx1MyKBCW6n"
      }
    },
    {
      "cell_type": "code",
      "source": [
        "# wide neural net for XOR\n",
        "\n",
        "# Lab 9 XOR\n",
        "# 9-3 deep and wide\n",
        "import tensorflow as tf\n",
        "import numpy as np\n",
        "\n",
        "x_data = np.array([[0, 0], [0, 1], [1, 0], [1, 1]], dtype=np.float32)\n",
        "y_data = np.array([[0], [1], [1], [0]], dtype=np.float32)\n",
        "\n",
        "tf.model = tf.keras.Sequential()\n",
        "tf.model.add(tf.keras.layers.Dense(units=10, input_dim=2, activation='sigmoid'))\n",
        "tf.model.add(tf.keras.layers.Dense(units=10, activation='sigmoid'))\n",
        "tf.model.add(tf.keras.layers.Dense(units=10, activation='sigmoid'))\n",
        "tf.model.add(tf.keras.layers.Dense(units=10, activation='sigmoid'))\n",
        "tf.model.add(tf.keras.layers.Dense(units=1, activation='sigmoid'))\n",
        "\n",
        "# SGD not working very well due to vanishing gradient problem, switched to Adam for now\n",
        "# or you may use activation='relu', study chapter 10 to know more on vanishing gradient problem.\n",
        "tf.model.compile(loss='binary_crossentropy', optimizer=tf.optimizers.Adam(learning_rate=0.1), metrics=['accuracy'])\n",
        "tf.model.summary()\n",
        "\n",
        "history = tf.model.fit(x_data, y_data, epochs=5000, verbose=0)\n",
        "\n",
        "predictions = tf.model.predict(x_data)\n",
        "print('Prediction: \\n', predictions)\n",
        "\n",
        "score = tf.model.evaluate(x_data, y_data)\n",
        "print('Accuracy: ', score[1])"
      ],
      "metadata": {
        "colab": {
          "base_uri": "https://localhost:8080/"
        },
        "id": "7L_QqXLoBZXd",
        "outputId": "2f1c906d-b9c0-480f-f32c-5a89958d048a"
      },
      "execution_count": 19,
      "outputs": [
        {
          "output_type": "stream",
          "name": "stdout",
          "text": [
            "Model: \"sequential_10\"\n",
            "_________________________________________________________________\n",
            " Layer (type)                Output Shape              Param #   \n",
            "=================================================================\n",
            " dense_14 (Dense)            (None, 10)                30        \n",
            "                                                                 \n",
            " dense_15 (Dense)            (None, 10)                110       \n",
            "                                                                 \n",
            " dense_16 (Dense)            (None, 10)                110       \n",
            "                                                                 \n",
            " dense_17 (Dense)            (None, 10)                110       \n",
            "                                                                 \n",
            " dense_18 (Dense)            (None, 1)                 11        \n",
            "                                                                 \n",
            "=================================================================\n",
            "Total params: 371\n",
            "Trainable params: 371\n",
            "Non-trainable params: 0\n",
            "_________________________________________________________________\n"
          ]
        },
        {
          "output_type": "stream",
          "name": "stderr",
          "text": [
            "WARNING:tensorflow:6 out of the last 6 calls to <function Model.make_predict_function.<locals>.predict_function at 0x7f3615189ab0> triggered tf.function retracing. Tracing is expensive and the excessive number of tracings could be due to (1) creating @tf.function repeatedly in a loop, (2) passing tensors with different shapes, (3) passing Python objects instead of tensors. For (1), please define your @tf.function outside of the loop. For (2), @tf.function has reduce_retracing=True option that can avoid unnecessary retracing. For (3), please refer to https://www.tensorflow.org/guide/function#controlling_retracing and https://www.tensorflow.org/api_docs/python/tf/function for  more details.\n"
          ]
        },
        {
          "output_type": "stream",
          "name": "stdout",
          "text": [
            "1/1 [==============================] - 0s 85ms/step\n",
            "Prediction: \n",
            " [[9.1884152e-07]\n",
            " [9.9999905e-01]\n",
            " [9.9999905e-01]\n",
            " [9.3098117e-07]]\n"
          ]
        },
        {
          "output_type": "stream",
          "name": "stderr",
          "text": [
            "WARNING:tensorflow:6 out of the last 6 calls to <function Model.make_test_function.<locals>.test_function at 0x7f3615189480> triggered tf.function retracing. Tracing is expensive and the excessive number of tracings could be due to (1) creating @tf.function repeatedly in a loop, (2) passing tensors with different shapes, (3) passing Python objects instead of tensors. For (1), please define your @tf.function outside of the loop. For (2), @tf.function has reduce_retracing=True option that can avoid unnecessary retracing. For (3), please refer to https://www.tensorflow.org/guide/function#controlling_retracing and https://www.tensorflow.org/api_docs/python/tf/function for  more details.\n"
          ]
        },
        {
          "output_type": "stream",
          "name": "stdout",
          "text": [
            "1/1 [==============================] - 0s 170ms/step - loss: 9.4369e-07 - accuracy: 1.0000\n",
            "Accuracy:  1.0\n"
          ]
        }
      ]
    },
    {
      "cell_type": "markdown",
      "source": [
        "### Difference\n",
        "- 첫번째 레이어에서 2개의 입력을 받아 10개의 출력을 내보냄 (wide)\n",
        "- 이 레이어를 여러 개로 구성 (deep)\n",
        "- 이전에 사용하였던 SGD에서 vanishing gradient problem을 해결하기 위해 adam으로 대체하여 사용\n",
        "\n",
        "### <br> Result\n",
        "- accuracy는 동일하게 1.0이 나옴\n",
        "- hypothesis 결과가 0 또는 1에 훨씬 가까워짐\n",
        "- 보다 잘 학습되었고 정확한 예측 수행"
      ],
      "metadata": {
        "id": "7sT5NFTiDdj-"
      }
    }
  ]
}
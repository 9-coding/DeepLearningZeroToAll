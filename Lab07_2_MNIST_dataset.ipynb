{
  "nbformat": 4,
  "nbformat_minor": 0,
  "metadata": {
    "colab": {
      "provenance": [],
      "authorship_tag": "ABX9TyPRONnIfv/jclF+IeeJT+i8",
      "include_colab_link": true
    },
    "kernelspec": {
      "name": "python3",
      "display_name": "Python 3"
    },
    "language_info": {
      "name": "python"
    }
  },
  "cells": [
    {
      "cell_type": "markdown",
      "metadata": {
        "id": "view-in-github",
        "colab_type": "text"
      },
      "source": [
        "<a href=\"https://colab.research.google.com/github/9-coding/DeepLearningZeroToAll/blob/main/Lab07_2_MNIST_dataset.ipynb\" target=\"_parent\"><img src=\"https://colab.research.google.com/assets/colab-badge.svg\" alt=\"Open In Colab\"/></a>"
      ]
    },
    {
      "cell_type": "code",
      "execution_count": 2,
      "metadata": {
        "colab": {
          "base_uri": "https://localhost:8080/"
        },
        "id": "13ZrGB0FafaT",
        "outputId": "fcd233d1-3025-41ed-e49a-68e9f8bc3529"
      },
      "outputs": [
        {
          "output_type": "stream",
          "name": "stdout",
          "text": [
            "Epoch 1/5\n",
            "1875/1875 [==============================] - 15s 8ms/step - loss: 0.2171 - accuracy: 0.9348\n",
            "Epoch 2/5\n",
            "1875/1875 [==============================] - 15s 8ms/step - loss: 0.0967 - accuracy: 0.9706\n",
            "Epoch 3/5\n",
            "1875/1875 [==============================] - 14s 8ms/step - loss: 0.0685 - accuracy: 0.9783\n",
            "Epoch 4/5\n",
            "1875/1875 [==============================] - 16s 8ms/step - loss: 0.0538 - accuracy: 0.9830\n",
            "Epoch 5/5\n",
            "1875/1875 [==============================] - 14s 8ms/step - loss: 0.0428 - accuracy: 0.9858\n",
            "313/313 [==============================] - 2s 4ms/step - loss: 0.0719 - accuracy: 0.9783\n"
          ]
        },
        {
          "output_type": "execute_result",
          "data": {
            "text/plain": [
              "[0.07192527502775192, 0.9782999753952026]"
            ]
          },
          "metadata": {},
          "execution_count": 2
        }
      ],
      "source": [
        "# Lab07-2 MNIST dataset\n",
        "\n",
        "import numpy as np\n",
        "import tensorflow as tf\n",
        "\n",
        "tf.random.set_seed(777)\n",
        "\n",
        "# Load the dataset\n",
        "mnist = tf.keras.datasets.mnist\n",
        "\n",
        "(x_train, y_train),(x_test, y_test) = mnist.load_data()\n",
        "x_train, x_test = x_train / 255.0, x_test / 255.0\n",
        "\n",
        "model = tf.keras.models.Sequential([\n",
        "  tf.keras.layers.Flatten(),\n",
        "  tf.keras.layers.Dense(512, activation=tf.nn.relu),\n",
        "  tf.keras.layers.Dropout(0.2),\n",
        "  tf.keras.layers.Dense(10, activation=tf.nn.softmax)\n",
        "])\n",
        "\n",
        "model.compile(optimizer='adam',\n",
        "              loss='sparse_categorical_crossentropy',\n",
        "              metrics=['accuracy'])\n",
        "\n",
        "model.fit(x_train, y_train, epochs=5)\n",
        "\n",
        "model.evaluate(x_test, y_test)"
      ]
    },
    {
      "cell_type": "markdown",
      "source": [
        "### model = tf.keras.models.Sequential([  <br>tf.keras.layers.Flatten(),<br> tf.keras.layers.Dense(512, activation=tf.nn.relu),<br>tf.keras.layers.Dropout(0.2),<br>tf.keras.layers.Dense(10, activation=tf.nn.softmax)<br>])\n",
        "- Flatten Layer : 입력 이미지를 1차원 벡터로 변환\n",
        "- Dense Layer : 512개의 뉴런을 가지고 활성화함수로 ReLU 사용.\n",
        "- Dropout Layer : 과적합 방지.\n",
        "- Dense Layer : 10개의 뉴런을 가지고 softmax 활성화함수를 사용하여 입력 이미지를 10개의 클래스로 분류.\n",
        "\n",
        "### <br>model.compile(optimizer='adam'<br>loss='sparse_categorical_crossentropy',<br>metrics=['accuracy'])\n",
        "- 모델 컴파일.\n",
        "- optimizer로 adam을 사용하고 다중 클래스 분류 문제에 잘 사용되는 손실함수 sparse_categorical_crossentropy 사용.\n",
        "\n"
      ],
      "metadata": {
        "id": "ZJK-Y1MCdn4P"
      }
    }
  ]
}